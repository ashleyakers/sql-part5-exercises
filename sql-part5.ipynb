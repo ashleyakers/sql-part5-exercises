{
    "metadata": {
        "kernelspec": {
            "name": "SQL",
            "display_name": "SQL",
            "language": "sql"
        },
        "language_info": {
            "name": "sql",
            "version": ""
        }
    },
    "nbformat_minor": 2,
    "nbformat": 4,
    "cells": [
        {
            "cell_type": "markdown",
            "source": [
                "# Exercises: Creating, Updating, and Destroying Objects\n",
                "\n",
                "For the exercises, you will be working with objects and data you create. Before opening this notebook, make sure that you have set up the new connection to the server and that you have located the database and your schema.\n",
                "\n",
                "## Object Creation\n",
                "\n",
                "Before coding, think of three things you want to make. These could be coding projects, new recipes, or planned projects for a woodworking hobby. Brainstorm the appropriate column names and data types as well.\n",
                "\n",
                "Create a table under your schema called `planned_makes`."
            ],
            "metadata": {
                "azdata_cell_guid": "9d51c166-0c19-4f27-a422-2a6cf596bfb2"
            },
            "attachments": {}
        },
        {
            "cell_type": "code",
            "source": [
                "CREATE TABLE [JunkDB_STL_Sept2022].[ashleya].[planned_makes](\r\n",
                "    column_1 INT PRIMARY KEY,\r\n",
                "    race VARCHAR(10),\r\n",
                "    class VARCHAR(10)\r\n",
                ")"
            ],
            "metadata": {
                "azdata_cell_guid": "d9238911-6f81-4f01-980d-b584307effaf",
                "language": "sql"
            },
            "outputs": [
                {
                    "output_type": "error",
                    "evalue": "Msg 2714, Level 16, State 6, Line 1\r\nThere is already an object named 'planned_makes' in the database.",
                    "ename": "",
                    "traceback": []
                },
                {
                    "output_type": "display_data",
                    "data": {
                        "text/html": "Total execution time: 00:00:00.065"
                    },
                    "metadata": {}
                }
            ],
            "execution_count": 40
        },
        {
            "cell_type": "markdown",
            "source": [
                "Add three rows to your table that are your planned makes."
            ],
            "metadata": {
                "azdata_cell_guid": "83cdf34d-8c4f-4fa1-a14e-77384b19d734"
            }
        },
        {
            "cell_type": "code",
            "source": [
                "INSERT INTO [JunkDB_STL_Sept2022].[ashleya].[planned_makes]\r\n",
                "VALUES ('night elf', 'rogue'),\r\n",
                "('draenei', 'priest'),\r\n",
                "('blood elf', 'demon hunter');\r\n",
                "\r\n",
                "SELECT * FROM [JunkDB_STL_Sept2022].[ashleya].[planned_makes];"
            ],
            "metadata": {
                "azdata_cell_guid": "e7cff9cb-87ba-4c7b-98f2-eaf445e8719c",
                "language": "sql",
                "tags": []
            },
            "outputs": [
                {
                    "output_type": "display_data",
                    "data": {
                        "text/html": "The statement has been terminated."
                    },
                    "metadata": {}
                },
                {
                    "output_type": "display_data",
                    "data": {
                        "text/html": "(3 rows affected)"
                    },
                    "metadata": {}
                },
                {
                    "output_type": "display_data",
                    "data": {
                        "text/html": "Total execution time: 00:00:00.072"
                    },
                    "metadata": {}
                },
                {
                    "output_type": "execute_result",
                    "metadata": {},
                    "execution_count": 42,
                    "data": {
                        "application/vnd.dataresource+json": {
                            "schema": {
                                "fields": [
                                    {
                                        "name": "Race"
                                    },
                                    {
                                        "name": "Class"
                                    }
                                ]
                            },
                            "data": [
                                {
                                    "0": "blood elf",
                                    "1": "demonhunt"
                                },
                                {
                                    "0": "draenei",
                                    "1": "priest"
                                },
                                {
                                    "0": "night elf",
                                    "1": "rogue"
                                }
                            ]
                        },
                        "text/html": [
                            "<table>",
                            "<tr><th>Race</th><th>Class</th></tr>",
                            "<tr><td>blood elf</td><td>demonhunt</td></tr>",
                            "<tr><td>draenei</td><td>priest</td></tr>",
                            "<tr><td>night elf</td><td>rogue</td></tr>",
                            "</table>"
                        ]
                    }
                },
                {
                    "output_type": "error",
                    "evalue": "Msg 2627, Level 14, State 1, Line 1\r\nViolation of PRIMARY KEY constraint 'PK__planned___1105AE4F03D757A0'. Cannot insert duplicate key in object 'ashleya.planned_makes'. The duplicate key value is (night elf, rogue).",
                    "ename": "",
                    "traceback": []
                }
            ],
            "execution_count": 42
        },
        {
            "cell_type": "markdown",
            "source": [
                "## Update a Row\n",
                "\n",
                "Change different values in one of your three rows."
            ],
            "metadata": {
                "azdata_cell_guid": "4a39b8d4-ae97-4e09-8336-c5fc6a00d76c"
            },
            "attachments": {}
        },
        {
            "cell_type": "code",
            "source": [
                "UPDATE [JunkDB_STL_Sept2022].[ashleya].[planned_makes]\r\n",
                "SET Race = 'Starting Race'\r\n",
                "WHERE Class = 'Rogue'; \r\n",
                "\r\n",
                "SELECT * FROM[JunkDB_STL_Sept2022].[ashleya].[planned_makes];\r\n",
                ""
            ],
            "metadata": {
                "azdata_cell_guid": "7409c695-9581-4ad8-b03a-574d2c4c87cb",
                "language": "sql"
            },
            "outputs": [
                {
                    "output_type": "display_data",
                    "data": {
                        "text/html": "The statement has been terminated."
                    },
                    "metadata": {}
                },
                {
                    "output_type": "display_data",
                    "data": {
                        "text/html": "(2 rows affected)"
                    },
                    "metadata": {}
                },
                {
                    "output_type": "display_data",
                    "data": {
                        "text/html": "Total execution time: 00:00:00.057"
                    },
                    "metadata": {}
                },
                {
                    "output_type": "execute_result",
                    "metadata": {},
                    "execution_count": 50,
                    "data": {
                        "application/vnd.dataresource+json": {
                            "schema": {
                                "fields": [
                                    {
                                        "name": "Race"
                                    },
                                    {
                                        "name": "Class"
                                    }
                                ]
                            },
                            "data": [
                                {
                                    "0": "draenei",
                                    "1": "priest"
                                },
                                {
                                    "0": "night elf",
                                    "1": "rogue"
                                }
                            ]
                        },
                        "text/html": [
                            "<table>",
                            "<tr><th>Race</th><th>Class</th></tr>",
                            "<tr><td>draenei</td><td>priest</td></tr>",
                            "<tr><td>night elf</td><td>rogue</td></tr>",
                            "</table>"
                        ]
                    }
                },
                {
                    "output_type": "error",
                    "evalue": "Msg 2628, Level 16, State 1, Line 1\r\nString or binary data would be truncated in table 'JunkDB_STL_Sept2022.ashleya.planned_makes', column 'Race'. Truncated value: 'Starting R'.",
                    "ename": "",
                    "traceback": []
                }
            ],
            "execution_count": 50
        },
        {
            "cell_type": "markdown",
            "source": [
                "## Delete a Row\n",
                "\n",
                "Delete one of the rows from your table."
            ],
            "metadata": {
                "azdata_cell_guid": "95e91a6e-9038-42d9-9401-5738842aba17"
            }
        },
        {
            "cell_type": "code",
            "source": [
                "DELETE FROM [JunkDB_STL_Sept2022].[ashleya].[planned_makes]\r\n",
                "WHERE Race = 'blood elf';\r\n",
                "\r\n",
                "SELECT * FROM[JunkDB_STL_Sept2022].[ashleya].[planned_makes];"
            ],
            "metadata": {
                "azdata_cell_guid": "749c748f-19b5-4c69-9004-b6b20216616a",
                "language": "sql",
                "tags": []
            },
            "outputs": [
                {
                    "output_type": "display_data",
                    "data": {
                        "text/html": "(0 rows affected)"
                    },
                    "metadata": {}
                },
                {
                    "output_type": "display_data",
                    "data": {
                        "text/html": "(2 rows affected)"
                    },
                    "metadata": {}
                },
                {
                    "output_type": "display_data",
                    "data": {
                        "text/html": "Total execution time: 00:00:00.075"
                    },
                    "metadata": {}
                },
                {
                    "output_type": "execute_result",
                    "metadata": {},
                    "execution_count": 49,
                    "data": {
                        "application/vnd.dataresource+json": {
                            "schema": {
                                "fields": [
                                    {
                                        "name": "Race"
                                    },
                                    {
                                        "name": "Class"
                                    }
                                ]
                            },
                            "data": [
                                {
                                    "0": "draenei",
                                    "1": "priest"
                                },
                                {
                                    "0": "night elf",
                                    "1": "rogue"
                                }
                            ]
                        },
                        "text/html": [
                            "<table>",
                            "<tr><th>Race</th><th>Class</th></tr>",
                            "<tr><td>draenei</td><td>priest</td></tr>",
                            "<tr><td>night elf</td><td>rogue</td></tr>",
                            "</table>"
                        ]
                    }
                }
            ],
            "execution_count": 49
        },
        {
            "cell_type": "markdown",
            "source": [
                "## Drop the Table\n",
                "\n",
                "While this has been fun, it is time to drop the table!"
            ],
            "metadata": {
                "azdata_cell_guid": "2239cb09-137b-4579-905b-1aa020793181"
            },
            "attachments": {}
        },
        {
            "cell_type": "code",
            "source": [
                "DROP TABLE [JunkDB_STL_Sept2022].[ashleya].[planned_makes];"
            ],
            "metadata": {
                "azdata_cell_guid": "b3c7f6ea-ee26-46b3-9c2a-2f7a82c39699",
                "language": "sql"
            },
            "outputs": [
                {
                    "output_type": "error",
                    "evalue": "Msg 3701, Level 11, State 5, Line 1\r\nCannot drop the table 'JunkDB_STL_Sept2022.ashleya.planned_makes', because it does not exist or you do not have permission.",
                    "ename": "",
                    "traceback": []
                },
                {
                    "output_type": "error",
                    "evalue": "Msg 208, Level 16, State 1, Line 3\r\nInvalid object name 'JunkDB_STL_Sept2022.ashleya.planned_makes'.",
                    "ename": "",
                    "traceback": []
                },
                {
                    "output_type": "display_data",
                    "data": {
                        "text/html": "Total execution time: 00:00:00.069"
                    },
                    "metadata": {}
                }
            ],
            "execution_count": 52
        }
    ]
}